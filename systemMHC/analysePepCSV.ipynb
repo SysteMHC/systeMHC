{
 "cells": [
  {
   "cell_type": "code",
   "execution_count": 26,
   "metadata": {
    "collapsed": true
   },
   "outputs": [],
   "source": [
    "import numpy as np\n",
    "import pandas as pd\n",
    "from pandas import DataFrame, Series"
   ]
  },
  {
   "cell_type": "code",
   "execution_count": 27,
   "metadata": {
    "collapsed": false
   },
   "outputs": [
    {
     "data": {
      "text/plain": [
       "34372"
      ]
     },
     "execution_count": 27,
     "metadata": {},
     "output_type": "execute_result"
    }
   ],
   "source": [
    "df = pd.read_csv('PBMC1.csv')\n",
    "len(df)"
   ]
  },
  {
   "cell_type": "code",
   "execution_count": 28,
   "metadata": {
    "collapsed": false
   },
   "outputs": [
    {
     "data": {
      "text/html": [
       "<div>\n",
       "<table border=\"1\" class=\"dataframe\">\n",
       "  <thead>\n",
       "    <tr style=\"text-align: right;\">\n",
       "      <th></th>\n",
       "      <th>Spectrum</th>\n",
       "      <th>Scan number</th>\n",
       "      <th>Peptide_Sequence</th>\n",
       "      <th>ModSequence</th>\n",
       "      <th>z</th>\n",
       "      <th>PrecursorMass</th>\n",
       "      <th>Massdiff</th>\n",
       "      <th>Expect value</th>\n",
       "      <th>Pvalue</th>\n",
       "      <th>MatchedIons</th>\n",
       "      <th>TotalIons</th>\n",
       "      <th>Protein</th>\n",
       "      <th>ProteinDescr</th>\n",
       "    </tr>\n",
       "  </thead>\n",
       "  <tbody>\n",
       "    <tr>\n",
       "      <th>0</th>\n",
       "      <td>PBMC1_Tubingen_120724_CB_Buffy18_W_20_Rep1_msm...</td>\n",
       "      <td>272</td>\n",
       "      <td>GTAAKSITK</td>\n",
       "      <td>GTAAKSITK</td>\n",
       "      <td>2</td>\n",
       "      <td>875.507237</td>\n",
       "      <td>-0.000395</td>\n",
       "      <td>0.1400</td>\n",
       "      <td>NaN</td>\n",
       "      <td>13</td>\n",
       "      <td>16</td>\n",
       "      <td>sp|Q9NUV9|GIMA4_HUMAN</td>\n",
       "      <td>GTPase IMAP family member 4 OS=Homo sapiens GN...</td>\n",
       "    </tr>\n",
       "    <tr>\n",
       "      <th>1</th>\n",
       "      <td>PBMC1_Tubingen_120724_CB_Buffy18_W_20_Rep1_msm...</td>\n",
       "      <td>276</td>\n",
       "      <td>GTAAKSITKK</td>\n",
       "      <td>GTAAKSITKK</td>\n",
       "      <td>2</td>\n",
       "      <td>1003.601475</td>\n",
       "      <td>-0.001120</td>\n",
       "      <td>0.2030</td>\n",
       "      <td>NaN</td>\n",
       "      <td>10</td>\n",
       "      <td>18</td>\n",
       "      <td>sp|Q9NUV9|GIMA4_HUMAN</td>\n",
       "      <td>GTPase IMAP family member 4 OS=Homo sapiens GN...</td>\n",
       "    </tr>\n",
       "    <tr>\n",
       "      <th>2</th>\n",
       "      <td>PBMC1_Tubingen_120724_CB_Buffy18_W_20_Rep1_msm...</td>\n",
       "      <td>278</td>\n",
       "      <td>GTAAKSITK</td>\n",
       "      <td>GTAAKSITK</td>\n",
       "      <td>2</td>\n",
       "      <td>875.507420</td>\n",
       "      <td>-0.000212</td>\n",
       "      <td>0.0195</td>\n",
       "      <td>NaN</td>\n",
       "      <td>13</td>\n",
       "      <td>16</td>\n",
       "      <td>sp|Q9NUV9|GIMA4_HUMAN</td>\n",
       "      <td>GTPase IMAP family member 4 OS=Homo sapiens GN...</td>\n",
       "    </tr>\n",
       "    <tr>\n",
       "      <th>3</th>\n",
       "      <td>PBMC1_Tubingen_120724_CB_Buffy18_W_20_Rep1_msm...</td>\n",
       "      <td>279</td>\n",
       "      <td>SLYKEGHSK</td>\n",
       "      <td>SLYKEGHSK</td>\n",
       "      <td>2</td>\n",
       "      <td>1047.534153</td>\n",
       "      <td>-0.000756</td>\n",
       "      <td>0.0106</td>\n",
       "      <td>NaN</td>\n",
       "      <td>12</td>\n",
       "      <td>16</td>\n",
       "      <td>sp|Q14839|CHD4_HUMAN</td>\n",
       "      <td>Chromodomain-helicase-DNA-binding protein 4 OS...</td>\n",
       "    </tr>\n",
       "    <tr>\n",
       "      <th>4</th>\n",
       "      <td>PBMC1_Tubingen_120724_CB_Buffy18_W_20_Rep1_msm...</td>\n",
       "      <td>282</td>\n",
       "      <td>GTAAKSITKK</td>\n",
       "      <td>GTAAKSITKK</td>\n",
       "      <td>2</td>\n",
       "      <td>1003.602329</td>\n",
       "      <td>-0.000265</td>\n",
       "      <td>0.1590</td>\n",
       "      <td>NaN</td>\n",
       "      <td>10</td>\n",
       "      <td>18</td>\n",
       "      <td>sp|Q9NUV9|GIMA4_HUMAN</td>\n",
       "      <td>GTPase IMAP family member 4 OS=Homo sapiens GN...</td>\n",
       "    </tr>\n",
       "  </tbody>\n",
       "</table>\n",
       "</div>"
      ],
      "text/plain": [
       "                                            Spectrum  Scan number  \\\n",
       "0  PBMC1_Tubingen_120724_CB_Buffy18_W_20_Rep1_msm...          272   \n",
       "1  PBMC1_Tubingen_120724_CB_Buffy18_W_20_Rep1_msm...          276   \n",
       "2  PBMC1_Tubingen_120724_CB_Buffy18_W_20_Rep1_msm...          278   \n",
       "3  PBMC1_Tubingen_120724_CB_Buffy18_W_20_Rep1_msm...          279   \n",
       "4  PBMC1_Tubingen_120724_CB_Buffy18_W_20_Rep1_msm...          282   \n",
       "\n",
       "  Peptide_Sequence ModSequence  z  PrecursorMass  Massdiff  Expect value  \\\n",
       "0        GTAAKSITK   GTAAKSITK  2     875.507237 -0.000395        0.1400   \n",
       "1       GTAAKSITKK  GTAAKSITKK  2    1003.601475 -0.001120        0.2030   \n",
       "2        GTAAKSITK   GTAAKSITK  2     875.507420 -0.000212        0.0195   \n",
       "3        SLYKEGHSK   SLYKEGHSK  2    1047.534153 -0.000756        0.0106   \n",
       "4       GTAAKSITKK  GTAAKSITKK  2    1003.602329 -0.000265        0.1590   \n",
       "\n",
       "   Pvalue  MatchedIons  TotalIons                Protein  \\\n",
       "0     NaN           13         16  sp|Q9NUV9|GIMA4_HUMAN   \n",
       "1     NaN           10         18  sp|Q9NUV9|GIMA4_HUMAN   \n",
       "2     NaN           13         16  sp|Q9NUV9|GIMA4_HUMAN   \n",
       "3     NaN           12         16   sp|Q14839|CHD4_HUMAN   \n",
       "4     NaN           10         18  sp|Q9NUV9|GIMA4_HUMAN   \n",
       "\n",
       "                                        ProteinDescr  \n",
       "0  GTPase IMAP family member 4 OS=Homo sapiens GN...  \n",
       "1  GTPase IMAP family member 4 OS=Homo sapiens GN...  \n",
       "2  GTPase IMAP family member 4 OS=Homo sapiens GN...  \n",
       "3  Chromodomain-helicase-DNA-binding protein 4 OS...  \n",
       "4  GTPase IMAP family member 4 OS=Homo sapiens GN...  "
      ]
     },
     "execution_count": 28,
     "metadata": {},
     "output_type": "execute_result"
    }
   ],
   "source": [
    "df.head()"
   ]
  },
  {
   "cell_type": "code",
   "execution_count": 22,
   "metadata": {
    "collapsed": false
   },
   "outputs": [
    {
     "ename": "AttributeError",
     "evalue": "'Series' object has no attribute 'group'",
     "output_type": "error",
     "traceback": [
      "\u001b[1;31m---------------------------------------------------------------------------\u001b[0m",
      "\u001b[1;31mAttributeError\u001b[0m                            Traceback (most recent call last)",
      "\u001b[1;32m<ipython-input-22-0f382dd0baf9>\u001b[0m in \u001b[0;36m<module>\u001b[1;34m()\u001b[0m\n\u001b[0;32m      2\u001b[0m \u001b[0mdf1\u001b[0m\u001b[1;33m.\u001b[0m\u001b[0mhead\u001b[0m\u001b[1;33m(\u001b[0m\u001b[1;33m)\u001b[0m\u001b[1;33m\u001b[0m\u001b[0m\n\u001b[0;32m      3\u001b[0m \u001b[0mdf1\u001b[0m\u001b[1;33m.\u001b[0m\u001b[0mkeys\u001b[0m\u001b[1;33m\u001b[0m\u001b[0m\n\u001b[1;32m----> 4\u001b[1;33m \u001b[0mdf1\u001b[0m\u001b[1;33m.\u001b[0m\u001b[0mgroup\u001b[0m\u001b[1;33m(\u001b[0m\u001b[1;33m)\u001b[0m\u001b[1;33m.\u001b[0m\u001b[0magg\u001b[0m\u001b[1;33m(\u001b[0m\u001b[0mlen\u001b[0m\u001b[1;33m)\u001b[0m\u001b[1;33m\u001b[0m\u001b[0m\n\u001b[0m",
      "\u001b[1;32mC:\\Users\\wolski\\Anaconda\\lib\\site-packages\\pandas\\core\\generic.pyc\u001b[0m in \u001b[0;36m__getattr__\u001b[1;34m(self, name)\u001b[0m\n\u001b[0;32m   2148\u001b[0m                 \u001b[1;32mreturn\u001b[0m \u001b[0mself\u001b[0m\u001b[1;33m[\u001b[0m\u001b[0mname\u001b[0m\u001b[1;33m]\u001b[0m\u001b[1;33m\u001b[0m\u001b[0m\n\u001b[0;32m   2149\u001b[0m             raise AttributeError(\"'%s' object has no attribute '%s'\" %\n\u001b[1;32m-> 2150\u001b[1;33m                                  (type(self).__name__, name))\n\u001b[0m\u001b[0;32m   2151\u001b[0m \u001b[1;33m\u001b[0m\u001b[0m\n\u001b[0;32m   2152\u001b[0m     \u001b[1;32mdef\u001b[0m \u001b[0m__setattr__\u001b[0m\u001b[1;33m(\u001b[0m\u001b[0mself\u001b[0m\u001b[1;33m,\u001b[0m \u001b[0mname\u001b[0m\u001b[1;33m,\u001b[0m \u001b[0mvalue\u001b[0m\u001b[1;33m)\u001b[0m\u001b[1;33m:\u001b[0m\u001b[1;33m\u001b[0m\u001b[0m\n",
      "\u001b[1;31mAttributeError\u001b[0m: 'Series' object has no attribute 'group'"
     ]
    }
   ],
   "source": [
    "df1 = df['Peptide_Sequence']\n",
    "df1.head()\n",
    "df1.keys\n",
    "df.group('Peptide_Sequence').agg(len)\n",
    "\n"
   ]
  },
  {
   "cell_type": "code",
   "execution_count": null,
   "metadata": {
    "collapsed": true
   },
   "outputs": [],
   "source": []
  }
 ],
 "metadata": {
  "kernelspec": {
   "display_name": "Python 2",
   "language": "python",
   "name": "python2"
  },
  "language_info": {
   "codemirror_mode": {
    "name": "ipython",
    "version": 2
   },
   "file_extension": ".py",
   "mimetype": "text/x-python",
   "name": "python",
   "nbconvert_exporter": "python",
   "pygments_lexer": "ipython2",
   "version": "2.7.10"
  }
 },
 "nbformat": 4,
 "nbformat_minor": 0
}
